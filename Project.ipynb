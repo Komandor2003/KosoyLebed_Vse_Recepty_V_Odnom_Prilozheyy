{
 "cells": [
  {
   "cell_type": "code",
   "execution_count": 7,
   "id": "5697e573-a46b-4a8f-ac95-48da60a6531c",
   "metadata": {},
   "outputs": [
    {
     "name": "stdout",
     "output_type": "stream",
     "text": [
      "соединение с базой данных установлено\n"
     ]
    }
   ],
   "source": [
    "import mysql.connector\n",
    "\n",
    "class connection():\n",
    "\n",
    "    def __init__(self, host, user, password, database):\n",
    "        self.connect = mysql.connector.connect(\n",
    "                    host=host,\n",
    "                    user=user,\n",
    "                    password=password,\n",
    "                    database=database)\n",
    "        \n",
    "    def select_all(self, table):\n",
    "        \n",
    "        try :\n",
    "            cursor = self.connect.cursor()\n",
    "            query = f'SELECT * FROM {table}'\n",
    "            cursor.execute(query)\n",
    "            results = cursor.fetchall()\n",
    "            cursor.close()\n",
    "            return results\n",
    "        except Exception as err :\n",
    "            cursor.close()\n",
    "            print(err)\n",
    "            return 0\n",
    "\n",
    "    def select_group(self, table, param, val):\n",
    "\n",
    "        try :\n",
    "            cursor = self.connect.cursor()\n",
    "            query = f'SELECT * FROM {table} WHERE {param} = %s'\n",
    "            cursor.execute(query, [str(val)])\n",
    "            results = cursor.fetchall()\n",
    "            cursor.close()\n",
    "            return results\n",
    "        except Exception as err: \n",
    "            cursor.close()\n",
    "            print(err)\n",
    "            return 0\n",
    "\n",
    "    def write(self, table, param, vals):\n",
    "\n",
    "        vals_q = (\"%s\" for i in range( len(vals)))\n",
    "        try :\n",
    "            cursor = self.connect.cursor()\n",
    "            query = f'INSERT INTO {table} {param} VALUES {vals_q}'\n",
    "            cursor.execute(query)\n",
    "            self.connect.commit()\n",
    "            cursor.close()\n",
    "            return True\n",
    "        except Exception as err :\n",
    "            cursor.close()\n",
    "            print(err)\n",
    "            return False\n",
    "        \n",
    "\n",
    "    def edit(self, table, params, vals, par, val):\n",
    "\n",
    "        vals_q = (\"%s\" for i in range( len(vals)))\n",
    "        try :\n",
    "            cursor = self.connect.cursor()\n",
    "            query = f'UPDATE {table} SET {params} VALUES {val_q} WHERE {par} = %s'\n",
    "            data_to_insert = [val]\n",
    "            cursor.execute(query, data_to_insert)\n",
    "            self.connect.commit()\n",
    "            cursor.close()\n",
    "            return True\n",
    "        except Exception as err :\n",
    "            cursor.close()\n",
    "            print(err)\n",
    "            return False\n",
    "\n",
    "\n",
    "conn = connection(host = '127.0.0.1',\n",
    "                    user = 'root',\n",
    "                    password = '1111',\n",
    "                    database = 'KosoyLebed')\n",
    "# print(\"соединение с базой данных установлено\")\n",
    "\n",
    "def take_meals(table = \"test\"):\n",
    "    return conn.select_all(table = table)\n",
    "    \n",
    "def take_meal(table, params, vals):\n",
    "    return conn.select_group(table = table, param = params, val = vals)\n",
    "    \n",
    "def new_meal(table, params, vals):\n",
    "    return conn.write(table = table, param = params, vals = vals)\n",
    "    \n",
    "def edit_meal():\n",
    "    return conn.edit"
   ]
  },
  {
   "cell_type": "code",
   "execution_count": 9,
   "id": "a5e439cc-cd10-480f-ae2d-c446176ad3af",
   "metadata": {},
   "outputs": [
    {
     "name": "stdout",
     "output_type": "stream",
     "text": [
      "[(1, '11'), (2, '22')]\n"
     ]
    }
   ],
   "source": []
  },
  {
   "cell_type": "code",
   "execution_count": null,
   "id": "73415557-9974-4c61-8cfd-79209d09153e",
   "metadata": {},
   "outputs": [],
   "source": []
  }
 ],
 "metadata": {
  "kernelspec": {
   "display_name": "Python 3 (ipykernel)",
   "language": "python",
   "name": "python3"
  },
  "language_info": {
   "codemirror_mode": {
    "name": "ipython",
    "version": 3
   },
   "file_extension": ".py",
   "mimetype": "text/x-python",
   "name": "python",
   "nbconvert_exporter": "python",
   "pygments_lexer": "ipython3",
   "version": "3.10.10"
  }
 },
 "nbformat": 4,
 "nbformat_minor": 5
}
